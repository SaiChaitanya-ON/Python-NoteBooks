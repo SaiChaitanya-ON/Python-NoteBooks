{
 "cells": [
  {
   "cell_type": "code",
   "execution_count": 5,
   "metadata": {},
   "outputs": [],
   "source": [
    "import torch \n",
    "import torch.nn as nn\n",
    "import torch.nn.functional as F\n",
    "import itertools\n",
    "import scipy.sparse as sp"
   ]
  },
  {
   "cell_type": "code",
   "execution_count": 2,
   "metadata": {},
   "outputs": [
    {
     "data": {
      "image/png": "[encoded data removed]",
      "text/plain": [
       "<Figure size 432x288 with 1 Axes>"
      ]
     },
     "metadata": {},
     "output_type": "display_data"
    }
   ],
   "source": [
    "\n",
    "import networkx as nx\n",
    "import matplotlib.pyplot as plt\n",
    "   \n",
    "\n",
    "class GraphVisualization:\n",
    "\n",
    "    def __init__(self):\n",
    "\n",
    "\n",
    "        self.visual = []\n",
    "\n",
    "    def addEdge(self, a, b):\n",
    "        temp = [a, b]\n",
    "        self.visual.append(temp)\n",
    "\n",
    "\n",
    "    def visualize(self):\n",
    "        G = nx.Graph()\n",
    "        G.add_edges_from(self.visual)\n",
    "        nx.draw_networkx(G,node_color='grey')\n",
    "        plt.show()\n",
    "\n",
    "\n",
    "G = GraphVisualization()\n",
    "G.addEdge(0, 1)\n",
    "G.addEdge(0, 2)\n",
    "G.addEdge(1, 2)\n",
    "G.addEdge(0, 3)\n",
    "G.addEdge(0, 4)\n",
    "G.addEdge(3, 4)\n",
    "G.addEdge(0, 5)\n",
    "\n",
    "G.visualize()\n"
   ]
  },
  {
   "cell_type": "code",
   "execution_count": 3,
   "metadata": {},
   "outputs": [
    {
     "name": "stderr",
     "output_type": "stream",
     "text": [
      "DGL backend not selected or invalid.  Assuming PyTorch for now.\n",
      "Using backend: pytorch\n"
     ]
    },
    {
     "name": "stdout",
     "output_type": "stream",
     "text": [
      "Setting the default backend to \"pytorch\". You can change it in the ~/.dgl/config.json file or export the DGLBACKEND environment variable.  Valid options are: pytorch, mxnet, tensorflow (all lowercase)\n",
      "{}\n"
     ]
    }
   ],
   "source": [
    "import dgl\n",
    "import numpy as np\n",
    "\n",
    "g = dgl.graph(([0, 0, 1, 0, 0, 3, 0], [1, 2, 2, 3, 4, 4, 5]), num_nodes=6)\n",
    "\n",
    "#g = dgl.graph(([0, 0, 1, 0, 0, 3, 0], [1, 2, 2, 3, 4, 4, 5]))\n",
    "\n",
    "print(g.ndata)\n"
   ]
  },
  {
   "cell_type": "code",
   "execution_count": 6,
   "metadata": {},
   "outputs": [
    {
     "name": "stdout",
     "output_type": "stream",
     "text": [
      "Graph(num_nodes=6, num_edges=7,\n",
      "      ndata_schemes={'a': Scheme(shape=(3,), dtype=torch.float32), 'y': Scheme(shape=(5, 4), dtype=torch.float32)}\n",
      "      edata_schemes={})\n",
      "tensor([0, 1, 2, 3, 4, 5])\n"
     ]
    }
   ],
   "source": [
    "g.ndata['a'] = torch.randn(6, 3)\n",
    "\n",
    "#g.edata['b'] = torch.randn(7, 4)\n",
    "\n",
    "g.ndata['y'] = torch.randn(6, 5, 4)\n",
    "\n",
    "# print(\"Node Data: \",g.ndata)\n",
    "# print(\"Edge Data: \",g.edata)\n",
    "print(g)\n",
    "print(g.nodes())\n"
   ]
  },
  {
   "cell_type": "code",
   "execution_count": 7,
   "metadata": {},
   "outputs": [
    {
     "name": "stdout",
     "output_type": "stream",
     "text": [
      "6\n",
      "7\n",
      "5\n",
      "0\n"
     ]
    }
   ],
   "source": [
    "print(g.num_nodes())\n",
    "print(g.num_edges())\n",
    "\n",
    "print(g.out_degrees(0))\n",
    "print(g.in_degrees(0))"
   ]
  },
  {
   "cell_type": "code",
   "execution_count": null,
   "metadata": {},
   "outputs": [],
   "source": []
  },
  {
   "cell_type": "raw",
   "metadata": {},
   "source": [
    "# Node Classification"
   ]
  },
  {
   "cell_type": "code",
   "execution_count": 8,
   "metadata": {},
   "outputs": [
    {
     "name": "stdout",
     "output_type": "stream",
     "text": [
      "Downloading /root/.dgl/cora_v2.zip from https://data.dgl.ai/dataset/cora_v2.zip...\n",
      "Extracting file to /root/.dgl/cora_v2\n",
      "Finished data loading and preprocessing.\n",
      "  NumNodes: 2708\n",
      "  NumEdges: 10556\n",
      "  NumFeats: 1433\n",
      "  NumClasses: 7\n",
      "  NumTrainingSamples: 140\n",
      "  NumValidationSamples: 500\n",
      "  NumTestSamples: 1000\n",
      "Done saving data into cached files.\n",
      "Features tensor([[0., 0., 0.,  ..., 0., 0., 0.],\n",
      "        [0., 0., 0.,  ..., 0., 0., 0.],\n",
      "        [0., 0., 0.,  ..., 0., 0., 0.],\n",
      "        ...,\n",
      "        [0., 0., 0.,  ..., 0., 0., 0.],\n",
      "        [0., 0., 0.,  ..., 0., 0., 0.],\n",
      "        [0., 0., 0.,  ..., 0., 0., 0.]])\n",
      "Features.shape torch.Size([2708, 1433])\n",
      "Labels tensor([3, 4, 4,  ..., 3, 3, 3])\n",
      "Train Mask tensor([ True,  True,  True,  ..., False, False, False])\n",
      "len(Train Mask) 2708\n"
     ]
    }
   ],
   "source": [
    "import dgl.data\n",
    "\n",
    "dataset = dgl.data.CoraGraphDataset()\n",
    "g = dataset[0]\n",
    "features = g.ndata['feat']\n",
    "print('Features',features)\n",
    "print('Features.shape',features.shape)\n",
    "labels = g.ndata['label']\n",
    "print('Labels',labels)\n",
    "train_mask = g.ndata['train_mask']\n",
    "print('Train Mask',train_mask)\n",
    "print('len(Train Mask)',len(train_mask))"
   ]
  },
  {
   "cell_type": "code",
   "execution_count": 9,
   "metadata": {},
   "outputs": [],
   "source": [
    "from dgl.nn import GraphConv\n",
    "\n",
    "class GCN(nn.Module):\n",
    "    def __init__(self, in_feats, h_feats, num_classes):\n",
    "        super(GCN, self).__init__()\n",
    "        self.conv1 = GraphConv(in_feats, h_feats)\n",
    "        self.conv2 = GraphConv(h_feats, num_classes)\n",
    "\n",
    "    def forward(self, g, in_feat):\n",
    "        h = self.conv1(g, in_feat)\n",
    "#         print(\"layer 1: \", h)\n",
    "#         print(\"layer 1 shape: \", h.shape)\n",
    "        h = F.relu(h)\n",
    "#         print(\"Relu: \", h)\n",
    "        h = self.conv2(g, h)\n",
    "#         print(\"layer 2: \", h)\n",
    "#         print(\"layer 2 shape: \", h.shape)\n",
    "        \n",
    "        return h\n",
    "\n",
    "# Create the model with given dimensions\n",
    "model = GCN(g.ndata['feat'].shape[1], 16, dataset.num_classes)"
   ]
  },
  {
   "cell_type": "code",
   "execution_count": 11,
   "metadata": {},
   "outputs": [
    {
     "name": "stdout",
     "output_type": "stream",
     "text": [
      "Logits.shape torch.Size([2708, 7])\n",
      "Logits tensor([[ 0.0046, -0.0046, -0.0040,  ...,  0.0020,  0.0003,  0.0043],\n",
      "        [ 0.0010, -0.0015, -0.0030,  ...,  0.0027,  0.0008,  0.0016],\n",
      "        [ 0.0032, -0.0041, -0.0023,  ...,  0.0028, -0.0014,  0.0036],\n",
      "        ...,\n",
      "        [ 0.0107, -0.0036, -0.0016,  ...,  0.0024, -0.0029,  0.0066],\n",
      "        [ 0.0034, -0.0026, -0.0042,  ..., -0.0028, -0.0040,  0.0012],\n",
      "        [ 0.0022, -0.0023, -0.0032,  ..., -0.0016, -0.0017,  0.0010]],\n",
      "       grad_fn=<AddBackward0>)\n",
      "Pred tensor([3, 4, 6,  ..., 0, 0, 3])\n",
      "len(Pred) 2708\n"
     ]
    }
   ],
   "source": [
    "def train(g, model):\n",
    "    optimizer = torch.optim.Adam(model.parameters(), lr=0.01)\n",
    "    best_val_acc = 0\n",
    "    best_test_acc = 0\n",
    "\n",
    "    features = g.ndata['feat']\n",
    "    labels = g.ndata['label']\n",
    "    train_mask = g.ndata['train_mask']\n",
    "    val_mask = g.ndata['val_mask']\n",
    "    test_mask = g.ndata['test_mask']\n",
    "    \n",
    "    #for e in range(100):\n",
    "    # Forward\n",
    "    logits = model(g, features)\n",
    "    print('Logits.shape', logits.shape)\n",
    "    print('Logits', logits)\n",
    "\n",
    "    # Compute prediction\n",
    "    pred = logits.argmax(1)\n",
    "    print('Pred', pred)\n",
    "    print('len(Pred)', len(pred))\n",
    "\n",
    "    # Compute loss\n",
    "    # Note that you should only compute the losses of the nodes in the training set.\n",
    "    loss = F.cross_entropy(logits[train_mask], labels[train_mask])\n",
    "\n",
    "    # Compute accuracy on training/validation/test\n",
    "    train_acc = (pred[train_mask] == labels[train_mask]).float().mean()\n",
    "#         print('pred[train_mast] == labels[train_mask]',(pred[train_mask]==labels[train_mask]).float().mean())\n",
    "#         print('len(pred[train_mast])',len(pred[train_mask]))\n",
    "    val_acc = (pred[val_mask] == labels[val_mask]).float().mean()\n",
    "    test_acc = (pred[test_mask] == labels[test_mask]).float().mean()\n",
    "\n",
    "    # Save the best validation accuracy and the corresponding test accuracy.\n",
    "    if best_val_acc < val_acc:\n",
    "        best_val_acc = val_acc\n",
    "        best_test_acc = test_acc\n",
    "\n",
    "    # Backward\n",
    "    optimizer.zero_grad()\n",
    "    loss.backward()\n",
    "    optimizer.step()\n",
    "\n",
    "#     if e % 5 == 0:\n",
    "#         print('In epoch {}, loss: {:.3f}, val acc: {:.3f} (best {:.3f}), test acc: {:.3f} (best {:.3f})'.format(\n",
    "#             e, loss, val_acc, best_val_acc, test_acc, best_test_acc))\n",
    "\n",
    "            \n",
    "model = GCN(g.ndata['feat'].shape[1], 16, dataset.num_classes)\n",
    "train(g, model)"
   ]
  },
  {
   "cell_type": "code",
   "execution_count": null,
   "metadata": {},
   "outputs": [],
   "source": []
  },
  {
   "cell_type": "code",
   "execution_count": null,
   "metadata": {},
   "outputs": [],
   "source": [
    "# Adding Edge Weights to graph"
   ]
  },
  {
   "cell_type": "code",
   "execution_count": 12,
   "metadata": {},
   "outputs": [],
   "source": [
    "from dgl.nn import EdgeWeightNorm, GraphConv"
   ]
  },
  {
   "cell_type": "code",
   "execution_count": 13,
   "metadata": {},
   "outputs": [
    {
     "name": "stdout",
     "output_type": "stream",
     "text": [
      "Before Self loop  (tensor([0, 1, 2, 3, 2, 5]), tensor([1, 2, 3, 4, 0, 3]))\n",
      "After Self loop  (tensor([0, 1, 2, 3, 2, 5, 0, 1, 2, 3, 4, 5]), tensor([1, 2, 3, 4, 0, 3, 0, 1, 2, 3, 4, 5]))\n",
      "Num of edges  12\n",
      "Length of edge_weight  12\n",
      "tensor([[2.3041, 1.4520],\n",
      "        [1.8190, 1.1463],\n",
      "        [1.9403, 1.2227],\n",
      "        [1.8190, 1.1463],\n",
      "        [2.0615, 1.2992],\n",
      "        [1.2127, 0.7642]], grad_fn=<AddBackward0>)\n"
     ]
    }
   ],
   "source": [
    "g = dgl.graph(([0,1,2,3,2,5], [1,2,3,4,0,3]))\n",
    "print(\"Before Self loop \",g.edges())\n",
    "g = dgl.add_self_loop(g)\n",
    "print(\"After Self loop \",g.edges())\n",
    "feat = th.ones(6, 10)\n",
    "#print(\"features \",feat)\n",
    "print(\"Num of edges \",g.num_edges())\n",
    "edge_weight = th.tensor([0.5, 0.6, 0.4, 0.7, 0.9, 0.1, 1, 1, 1, 1, 1, 1])\n",
    "print(\"Length of edge_weight \",len(edge_weight))\n",
    "# norm = EdgeWeightNorm(norm='both')\n",
    "# norm_edge_weight = norm(g, edge_weight)\n",
    "#print(\"norm_edge_weight \",norm_edge_weight)\n",
    "conv = GraphConv(10, 2, norm='none', weight=True, bias=True)\n",
    "res = conv(g, feat, edge_weight=edge_weight)\n",
    "print(res)"
   ]
  },
  {
   "cell_type": "code",
   "execution_count": null,
   "metadata": {},
   "outputs": [],
   "source": []
  },
  {
   "cell_type": "raw",
   "metadata": {},
   "source": [
    "# Link Prediction"
   ]
  },
  {
   "cell_type": "code",
   "execution_count": 14,
   "metadata": {},
   "outputs": [
    {
     "name": "stdout",
     "output_type": "stream",
     "text": [
      "  NumNodes: 2708\n",
      "  NumEdges: 10556\n",
      "  NumFeats: 1433\n",
      "  NumClasses: 7\n",
      "  NumTrainingSamples: 140\n",
      "  NumValidationSamples: 500\n",
      "  NumTestSamples: 1000\n",
      "Done loading data from cached files.\n"
     ]
    }
   ],
   "source": [
    "import dgl.data\n",
    "\n",
    "dataset = dgl.data.CoraGraphDataset()\n",
    "g = dataset[0]"
   ]
  },
  {
   "cell_type": "code",
   "execution_count": 32,
   "metadata": {
    "scrolled": true
   },
   "outputs": [
    {
     "name": "stdout",
     "output_type": "stream",
     "text": [
      "no.of edges  10556\n",
      "eids  [    0     1     2 ... 10553 10554 10555]\n",
      "eids  10556\n",
      "eids  [6427 3197 4862 ... 4732 3591 5704]\n",
      "eids  10556\n",
      "neg_u:  [   0    0    0 ... 2707 2707 2707] neg_v:  [   1    2    3 ... 2703 2704 2705]\n"
     ]
    }
   ],
   "source": [
    "# Split edge set for training and testing\n",
    "u, v = g.edges()\n",
    "\n",
    "eids = np.arange(g.number_of_edges())\n",
    "print(\"no.of edges \",g.number_of_edges())\n",
    "print(\"eids \",eids)\n",
    "print(\"eids \",len(eids))\n",
    "eids = np.random.permutation(eids)\n",
    "print(\"eids \",eids)\n",
    "print(\"eids \",len(eids))\n",
    "test_size = int(len(eids) * 0.1)\n",
    "train_size = g.number_of_edges() - test_size\n",
    "test_pos_u, test_pos_v = u[eids[:test_size]], v[eids[:test_size]]\n",
    "train_pos_u, train_pos_v = u[eids[test_size:]], v[eids[test_size:]]\n",
    "\n",
    "# Find all negative edges and split them for training and testing\n",
    "adj = sp.coo_matrix((np.ones(len(u)), (u.numpy(), v.numpy())))\n",
    "#print(\"adj: \",adj)\n",
    "adj_neg = 1 - adj.todense() - np.eye(g.number_of_nodes())\n",
    "#print(\"adj_neg: \",adj_neg)\n",
    "neg_u, neg_v = np.where(adj_neg != 0)\n",
    "print(\"neg_u: \",neg_u, \"neg_v: \", neg_v)\n",
    "\n",
    "neg_eids = np.random.choice(len(neg_u), g.number_of_edges())\n",
    "test_neg_u, test_neg_v = neg_u[neg_eids[:test_size]], neg_v[neg_eids[:test_size]]\n",
    "train_neg_u, train_neg_v = neg_u[neg_eids[test_size:]], neg_v[neg_eids[test_size:]]"
   ]
  },
  {
   "cell_type": "code",
   "execution_count": 16,
   "metadata": {},
   "outputs": [],
   "source": [
    "train_g = dgl.remove_edges(g, eids[:test_size])"
   ]
  },
  {
   "cell_type": "code",
   "execution_count": 17,
   "metadata": {},
   "outputs": [],
   "source": [
    "from dgl.nn import SAGEConv\n",
    "\n",
    "# ----------- 2. create model -------------- #\n",
    "# build a two-layer GraphSAGE model\n",
    "class GraphSAGE(nn.Module):\n",
    "    def __init__(self, in_feats, h_feats):\n",
    "        super(GraphSAGE, self).__init__()\n",
    "        self.conv1 = SAGEConv(in_feats, h_feats, 'mean')\n",
    "        self.conv2 = SAGEConv(h_feats, h_feats, 'mean')\n",
    "\n",
    "    def forward(self, g, in_feat):\n",
    "        h = self.conv1(g, in_feat)\n",
    "#         print(\"layer 1: \", h)\n",
    "#         print(\"layer 1 shape: \", h.shape)\n",
    "        h = F.relu(h)\n",
    "        h = self.conv2(g, h)\n",
    "#         print(\"layer 2: \", h)\n",
    "#         print(\"layer 2 shape: \", h.shape)\n",
    "        return h"
   ]
  },
  {
   "cell_type": "code",
   "execution_count": 18,
   "metadata": {},
   "outputs": [
    {
     "name": "stdout",
     "output_type": "stream",
     "text": [
      "Train Pos Graph:  Graph(num_nodes=2708, num_edges=9501,\n",
      "      ndata_schemes={}\n",
      "      edata_schemes={})\n",
      "Train Neg Graph:  Graph(num_nodes=2708, num_edges=9501,\n",
      "      ndata_schemes={}\n",
      "      edata_schemes={})\n",
      "Test Pos Graph:  Graph(num_nodes=2708, num_edges=1055,\n",
      "      ndata_schemes={}\n",
      "      edata_schemes={})\n",
      "Test Neg Graph:  Graph(num_nodes=2708, num_edges=1055,\n",
      "      ndata_schemes={}\n",
      "      edata_schemes={})\n"
     ]
    }
   ],
   "source": [
    "train_pos_g = dgl.graph((train_pos_u, train_pos_v), num_nodes=g.number_of_nodes())\n",
    "print(\"Train Pos Graph: \", train_pos_g)\n",
    "train_neg_g = dgl.graph((train_neg_u, train_neg_v), num_nodes=g.number_of_nodes())\n",
    "print(\"Train Neg Graph: \", train_neg_g)\n",
    "\n",
    "\n",
    "test_pos_g = dgl.graph((test_pos_u, test_pos_v), num_nodes=g.number_of_nodes())\n",
    "print(\"Test Pos Graph: \", test_pos_g)\n",
    "test_neg_g = dgl.graph((test_neg_u, test_neg_v), num_nodes=g.number_of_nodes())\n",
    "print(\"Test Neg Graph: \", test_neg_g)"
   ]
  },
  {
   "cell_type": "code",
   "execution_count": 19,
   "metadata": {},
   "outputs": [],
   "source": [
    "import dgl.function as fn\n",
    "\n",
    "class DotPredictor(nn.Module):\n",
    "    def forward(self, g, h):\n",
    "        with g.local_scope():\n",
    "            g.ndata['h'] = h\n",
    "            # Compute a new edge feature named 'score' by a dot-product between the\n",
    "            # source node feature 'h' and destination node feature 'h'.\n",
    "            g.apply_edges(fn.u_dot_v('h', 'h', 'score'))\n",
    "            # u_dot_v returns a 1-element vector for each edge so you need to squeeze it.\n",
    "            return g.edata['score'][:, 0]"
   ]
  },
  {
   "cell_type": "code",
   "execution_count": 20,
   "metadata": {},
   "outputs": [],
   "source": [
    "class MLPPredictor(nn.Module):\n",
    "    def __init__(self, h_feats):\n",
    "        super().__init__()\n",
    "        self.W1 = nn.Linear(h_feats * 2, h_feats)\n",
    "        self.W2 = nn.Linear(h_feats, 1)\n",
    "\n",
    "    def apply_edges(self, edges):\n",
    "        \"\"\"\n",
    "        Computes a scalar score for each edge of the given graph.\n",
    "\n",
    "        Parameters\n",
    "        ----------\n",
    "        edges :\n",
    "            Has three members ``src``, ``dst`` and ``data``, each of\n",
    "            which is a dictionary representing the features of the\n",
    "            source nodes, the destination nodes, and the edges\n",
    "            themselves.\n",
    "\n",
    "        Returns\n",
    "        -------\n",
    "        dict\n",
    "            A dictionary of new edge features.\n",
    "        \"\"\"\n",
    "        h = torch.cat([edges.src['h'], edges.dst['h']], 1)\n",
    "        return {'score': self.W2(F.relu(self.W1(h))).squeeze(1)}\n",
    "\n",
    "    def forward(self, g, h):\n",
    "        with g.local_scope():\n",
    "            g.ndata['h'] = h\n",
    "            g.apply_edges(self.apply_edges)\n",
    "            return g.edata['score']"
   ]
  },
  {
   "cell_type": "code",
   "execution_count": 21,
   "metadata": {},
   "outputs": [],
   "source": [
    "model = GraphSAGE(train_g.ndata['feat'].shape[1], 16)\n",
    "# You can replace DotPredictor with MLPPredictor.\n",
    "#pred = MLPPredictor(16)\n",
    "pred = DotPredictor()\n",
    "\n",
    "def compute_loss(pos_score, neg_score):\n",
    "    scores = torch.cat([pos_score, neg_score])\n",
    "    labels = torch.cat([torch.ones(pos_score.shape[0]), torch.zeros(neg_score.shape[0])])\n",
    "    return F.binary_cross_entropy_with_logits(scores, labels)\n",
    "\n",
    "def compute_auc(pos_score, neg_score):\n",
    "    scores = torch.cat([pos_score, neg_score]).numpy()\n",
    "    labels = torch.cat([torch.ones(pos_score.shape[0]), torch.zeros(neg_score.shape[0])]).numpy()\n",
    "    return roc_auc_score(labels, scores)"
   ]
  },
  {
   "cell_type": "code",
   "execution_count": 22,
   "metadata": {},
   "outputs": [
    {
     "name": "stdout",
     "output_type": "stream",
     "text": [
      "h:  tensor([[-0.0250,  0.0098,  0.0387,  ..., -0.0058,  0.0238,  0.0156],\n",
      "        [-0.0212,  0.0154,  0.0192,  ..., -0.0197,  0.0494, -0.0374],\n",
      "        [-0.0310,  0.0049,  0.0393,  ..., -0.0118, -0.0049, -0.0139],\n",
      "        ...,\n",
      "        [ 0.0242, -0.0044, -0.0237,  ..., -0.0847,  0.0238,  0.0027],\n",
      "        [-0.0281,  0.0359,  0.0130,  ..., -0.0218,  0.0167,  0.0027],\n",
      "        [-0.0048,  0.0167,  0.0175,  ..., -0.0224,  0.0007, -0.0290]],\n",
      "       grad_fn=<AddBackward0>)\n",
      "pos_score:  tensor([0.0024, 0.0003, 0.0007,  ..., 0.0063, 0.0034, 0.0027],\n",
      "       grad_fn=<SelectBackward>)\n",
      "neg_score:  tensor([0.0028, 0.0037, 0.0022,  ..., 0.0005, 0.0022, 0.0019],\n",
      "       grad_fn=<SelectBackward>)\n",
      "AUC 0.5537683340446081\n"
     ]
    }
   ],
   "source": [
    "# ----------- 3. set up loss and optimizer -------------- #\n",
    "# in this case, loss will in training loop\n",
    "optimizer = torch.optim.Adam(itertools.chain(model.parameters(), pred.parameters()), lr=0.01)\n",
    "\n",
    "# ----------- 4. training -------------------------------- #\n",
    "all_logits = []\n",
    "\n",
    "#for e in range(100):\n",
    "# forward\n",
    "h = model(train_g, train_g.ndata['feat'])\n",
    "print(\"h: \", h)\n",
    "pos_score = pred(train_pos_g, h)\n",
    "print(\"pos_score: \", pos_score)\n",
    "neg_score = pred(train_neg_g, h)\n",
    "print(\"neg_score: \", neg_score)\n",
    "loss = compute_loss(pos_score, neg_score)\n",
    "\n",
    "# backward\n",
    "optimizer.zero_grad()\n",
    "loss.backward()\n",
    "optimizer.step()\n",
    "\n",
    "# if e % 5 == 0:\n",
    "#     print('In epoch {}, loss: {}'.format(e, loss))\n",
    "\n",
    "# ----------- 5. check results ------------------------ #\n",
    "from sklearn.metrics import roc_auc_score\n",
    "with torch.no_grad():\n",
    "    pos_score = pred(test_pos_g, h)\n",
    "    neg_score = pred(test_neg_g, h)\n",
    "    print('AUC', compute_auc(pos_score, neg_score))\n",
    "\n",
    "\n",
    "# Thumbnail Courtesy: Link Prediction with Neo4j, Mark Needham\n",
    "# sphinx_gallery_thumbnail_path = '_static/blitz_4_link_predict.png'"
   ]
  },
  {
   "cell_type": "code",
   "execution_count": null,
   "metadata": {},
   "outputs": [],
   "source": []
  },
  {
   "cell_type": "raw",
   "metadata": {},
   "source": [
    "# Graph Classification"
   ]
  },
  {
   "cell_type": "code",
   "execution_count": 61,
   "metadata": {},
   "outputs": [
    {
     "name": "stdout",
     "output_type": "stream",
     "text": [
      "1113\n"
     ]
    }
   ],
   "source": [
    "import dgl.data\n",
    "import torch\n",
    "\n",
    "# Generate a synthetic dataset with 10000 graphs, ranging from 10 to 500 nodes.\n",
    "dataset = dgl.data.GINDataset('PROTEINS', self_loop=True)\n",
    "print(len(dataset))"
   ]
  },
  {
   "cell_type": "code",
   "execution_count": 62,
   "metadata": {},
   "outputs": [
    {
     "name": "stdout",
     "output_type": "stream",
     "text": [
      "Node feature dimensionality: 3\n",
      "Number of graph categories: 2\n"
     ]
    }
   ],
   "source": [
    "print('Node feature dimensionality:', dataset.dim_nfeats)\n",
    "print('Number of graph categories:', dataset.gclasses)"
   ]
  },
  {
   "cell_type": "code",
   "execution_count": 63,
   "metadata": {},
   "outputs": [
    {
     "name": "stdout",
     "output_type": "stream",
     "text": [
      "num_examples  1113\n",
      "num_train  890\n",
      "torch.arange(num_train) \n",
      "tensor(0)\n",
      "tensor(1)\n",
      "tensor(2)\n",
      "tensor(3)\n",
      "tensor(4)\n",
      "After Shuffling train_sampler\n",
      "tensor(130)\n",
      "tensor(659)\n",
      "tensor(129)\n",
      "tensor(87)\n",
      "tensor(869)\n",
      "tensor(867)\n"
     ]
    }
   ],
   "source": [
    "from dgl.dataloading import GraphDataLoader\n",
    "from torch.utils.data.sampler import SubsetRandomSampler\n",
    "\n",
    "num_examples = len(dataset)\n",
    "print(\"num_examples \",num_examples)\n",
    "num_train = int(num_examples * 0.8)\n",
    "print(\"num_train \",num_train)\n",
    "\n",
    "train_sampler = SubsetRandomSampler(torch.arange(num_train))\n",
    "#print(\"torch.arange(num_train) \",torch.arange(num_train))\n",
    "test_sampler = SubsetRandomSampler(torch.arange(num_train, num_examples))\n",
    "#print(\"torch.arange(num_train, num_examples) \",torch.arange(num_train, num_examples))\n",
    "\n",
    "print(\"torch.arange(num_train) \")\n",
    "for i in range(5):\n",
    "    print(torch.arange(num_train)[i])\n",
    "    \n",
    "count = 0\n",
    "print(\"After Shuffling train_sampler\")\n",
    "for i in train_sampler:\n",
    "    print(i)\n",
    "    count += 1\n",
    "    if count > 5:\n",
    "        break\n",
    "    \n",
    "    \n",
    "train_dataloader = GraphDataLoader(dataset, sampler=train_sampler, batch_size=5, drop_last=False)\n",
    "test_dataloader = GraphDataLoader(dataset, sampler=test_sampler, batch_size=5, drop_last=False)"
   ]
  },
  {
   "cell_type": "code",
   "execution_count": 64,
   "metadata": {},
   "outputs": [],
   "source": [
    "# it = iter(train_dataloader)\n",
    "# batch = next(it)\n",
    "# print(len(batch[0].ndata['attr']))"
   ]
  },
  {
   "cell_type": "code",
   "execution_count": 65,
   "metadata": {},
   "outputs": [],
   "source": [
    "# batched_graph, labels = batch\n",
    "# print('Number of nodes for each graph element in the batch:', batched_graph.batch_num_nodes())\n",
    "# print('Number of edges for each graph element in the batch:', batched_graph.batch_num_edges())\n",
    "\n",
    "\n",
    "# graphs = dgl.unbatch(batched_graph)\n",
    "# print('The original graphs in the minibatch:')\n",
    "# print(graphs)"
   ]
  },
  {
   "cell_type": "code",
   "execution_count": 66,
   "metadata": {},
   "outputs": [],
   "source": [
    "from dgl.nn import GraphConv\n",
    "\n",
    "class GCN(nn.Module):\n",
    "    def __init__(self, in_feats, h_feats, num_classes):\n",
    "        super(GCN, self).__init__()\n",
    "        self.conv1 = GraphConv(in_feats, h_feats)\n",
    "        self.conv2 = GraphConv(h_feats, num_classes)\n",
    "        #print(\"Dim of Input Features \", in_feats)\n",
    "\n",
    "    def forward(self, g, in_feat):\n",
    "        #print(\"Input Features \",in_feat)\n",
    "        #print(\"Length of Input Features \", len(in_feat))\n",
    "        h = self.conv1(g, in_feat)\n",
    "        h = F.relu(h)\n",
    "        h = self.conv2(g, h)\n",
    "        g.ndata['h'] = h\n",
    "        #print(\"g.ndata['h'] \", g.ndata['h'])\n",
    "        #print(\"Length of g.ndata['h'] \", len(g.ndata['h']))\n",
    "        #print(\"Mean of Nodes \", dgl.mean_nodes(g, 'h'))\n",
    "        return dgl.mean_nodes(g, 'h')"
   ]
  },
  {
   "cell_type": "code",
   "execution_count": 67,
   "metadata": {},
   "outputs": [
    {
     "name": "stdout",
     "output_type": "stream",
     "text": [
      "Num of Classes  2\n",
      "Test accuracy: 0.22869955156950672\n"
     ]
    }
   ],
   "source": [
    "# Create the model with given dimensions\n",
    "print(\"Num of Classes \", dataset.gclasses)\n",
    "model = GCN(dataset.dim_nfeats, 16, dataset.gclasses)\n",
    "optimizer = torch.optim.Adam(model.parameters(), lr=0.01)\n",
    "\n",
    "for epoch in range(20):\n",
    "    for batched_graph, labels in train_dataloader:\n",
    "        #print(\"labels \",labels)\n",
    "        pred = model(batched_graph, batched_graph.ndata['attr'].float())\n",
    "        #print(\"Prediction \",pred)\n",
    "        \n",
    "        #print('Number of nodes for each graph element in the batch:', batched_graph.batch_num_nodes())\n",
    "\n",
    "        loss = F.cross_entropy(pred, labels)\n",
    "        optimizer.zero_grad()\n",
    "        loss.backward()\n",
    "        optimizer.step()\n",
    "        \n",
    "\n",
    "num_correct = 0\n",
    "num_tests = 0\n",
    "for batched_graph, labels in test_dataloader:\n",
    "    pred = model(batched_graph, batched_graph.ndata['attr'].float())\n",
    "    num_correct += (pred.argmax(1) == labels).sum().item()\n",
    "    num_tests += len(labels)\n",
    "\n",
    "print('Test accuracy:', num_correct / num_tests)"
   ]
  },
  {
   "cell_type": "raw",
   "metadata": {},
   "source": [
    "Creating our own dataset"
   ]
  },
  {
   "cell_type": "code",
   "execution_count": 52,
   "metadata": {},
   "outputs": [
    {
     "name": "stdout",
     "output_type": "stream",
     "text": [
      "      Club  Age\n",
      "Id             \n",
      "0   Mr. Hi   44\n",
      "1   Mr. Hi   37\n",
      "2   Mr. Hi   37\n",
      "3   Mr. Hi   40\n",
      "4   Mr. Hi   30\n",
      "\n",
      "      Dst    Weight\n",
      "Src               \n",
      "0      1  0.043591\n",
      "0      2  0.282119\n",
      "0      3  0.370293\n",
      "0      4  0.730570\n",
      "0      5  0.821187\n"
     ]
    }
   ],
   "source": [
    "import urllib.request\n",
    "import pandas as pd\n",
    "urllib.request.urlretrieve('https://data.dgl.ai/tutorial/dataset/members.csv', './members.csv')\n",
    "urllib.request.urlretrieve('https://data.dgl.ai/tutorial/dataset/interactions.csv', './interactions.csv')\n",
    "\n",
    "members = pd.read_csv('./members.csv',index_col = 0)\n",
    "print(members.head())\n",
    "\n",
    "interactions = pd.read_csv('./interactions.csv',index_col = 0)\n",
    "print(\"\\n\",interactions.head())"
   ]
  },
  {
   "cell_type": "code",
   "execution_count": 51,
   "metadata": {},
   "outputs": [
    {
     "name": "stdout",
     "output_type": "stream",
     "text": [
      "Graph(num_nodes=34, num_edges=156,\n",
      "      ndata_schemes={'feat': Scheme(shape=(), dtype=torch.int64), 'label': Scheme(shape=(), dtype=torch.int8), 'train_mask': Scheme(shape=(), dtype=torch.bool), 'val_mask': Scheme(shape=(), dtype=torch.bool), 'test_mask': Scheme(shape=(), dtype=torch.bool)}\n",
      "      edata_schemes={'weight': Scheme(shape=(), dtype=torch.float64)})\n"
     ]
    },
    {
     "name": "stderr",
     "output_type": "stream",
     "text": [
      "/root/.cache/pypoetry/virtualenvs/oaknorth-ml-lib-QXhsOmlJ-py3.7/lib/python3.7/site-packages/ipykernel_launcher.py:12: UserWarning: The given NumPy array is not writeable, and PyTorch does not support non-writeable tensors. This means you can write to the underlying (supposedly non-writeable) NumPy array using the tensor. You may want to copy the array to protect its data or make it writeable before converting it to a tensor. This type of warning will be suppressed for the rest of this program. (Triggered internally at  /pytorch/torch/csrc/utils/tensor_numpy.cpp:141.)\n",
      "  if sys.path[0] == '':\n"
     ]
    }
   ],
   "source": [
    "from dgl.data import DGLDataset\n",
    "import os\n",
    "\n",
    "class KarateClubDataset(DGLDataset):\n",
    "    def __init__(self):\n",
    "        super().__init__(name='karate_club')\n",
    "\n",
    "    def process(self):\n",
    "        nodes_data = pd.read_csv('./members.csv')\n",
    "        edges_data = pd.read_csv('./interactions.csv')\n",
    "        node_features = torch.from_numpy(nodes_data['Age'].to_numpy())\n",
    "        node_labels = torch.from_numpy(nodes_data['Club'].astype('category').cat.codes.to_numpy())\n",
    "        edge_features = torch.from_numpy(edges_data['Weight'].to_numpy())\n",
    "        edges_src = torch.from_numpy(edges_data['Src'].to_numpy())\n",
    "        edges_dst = torch.from_numpy(edges_data['Dst'].to_numpy())\n",
    "\n",
    "        self.graph = dgl.graph((edges_src, edges_dst), num_nodes=nodes_data.shape[0])\n",
    "        self.graph.ndata['feat'] = node_features\n",
    "        self.graph.ndata['label'] = node_labels\n",
    "        self.graph.edata['weight'] = edge_features\n",
    "\n",
    "        # If your dataset is a node classification dataset, you will need to assign\n",
    "        # masks indicating whether a node belongs to training, validation, and test set.\n",
    "        n_nodes = nodes_data.shape[0]\n",
    "        n_train = int(n_nodes * 0.6)\n",
    "        n_val = int(n_nodes * 0.2)\n",
    "        train_mask = torch.zeros(n_nodes, dtype=torch.bool)\n",
    "        val_mask = torch.zeros(n_nodes, dtype=torch.bool)\n",
    "        test_mask = torch.zeros(n_nodes, dtype=torch.bool)\n",
    "        train_mask[:n_train] = True\n",
    "        val_mask[n_train:n_train + n_val] = True\n",
    "        test_mask[n_train + n_val:] = True\n",
    "        self.graph.ndata['train_mask'] = train_mask\n",
    "        self.graph.ndata['val_mask'] = val_mask\n",
    "        self.graph.ndata['test_mask'] = test_mask\n",
    "\n",
    "    def __getitem__(self, i):\n",
    "        return self.graph\n",
    "\n",
    "    def __len__(self):\n",
    "        return 1\n",
    "\n",
    "dataset = KarateClubDataset()\n",
    "graph = dataset[0]\n",
    "\n",
    "print(graph)"
   ]
  },
  {
   "cell_type": "code",
   "execution_count": null,
   "metadata": {},
   "outputs": [],
   "source": []
  }
 ],
 "metadata": {
  "kernelspec": {
   "display_name": "Python 3",
   "language": "python",
   "name": "python3"
  },
  "language_info": {
   "codemirror_mode": {
    "name": "ipython",
    "version": 3
   },
   "file_extension": ".py",
   "mimetype": "text/x-python",
   "name": "python",
   "nbconvert_exporter": "python",
   "pygments_lexer": "ipython3",
   "version": "3.7.4"
  }
 },
 "nbformat": 4,
 "nbformat_minor": 2
}
