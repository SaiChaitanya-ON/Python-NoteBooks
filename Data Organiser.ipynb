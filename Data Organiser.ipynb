{
 "cells": [
  {
   "cell_type": "code",
   "execution_count": 1,
   "id": "a38b1b73",
   "metadata": {},
   "outputs": [
    {
     "ename": "FileNotFoundError",
     "evalue": "[Errno 2] No such file or directory: 'Total_Rev.txt'",
     "output_type": "error",
     "traceback": [
      "\u001b[0;31m---------------------------------------------------------------------------\u001b[0m",
      "\u001b[0;31mFileNotFoundError\u001b[0m                         Traceback (most recent call last)",
      "\u001b[0;32m<ipython-input-1-a0d9ab570d7b>\u001b[0m in \u001b[0;36m<module>\u001b[0;34m\u001b[0m\n\u001b[0;32m----> 1\u001b[0;31m \u001b[0mfile1\u001b[0m \u001b[0;34m=\u001b[0m \u001b[0mopen\u001b[0m\u001b[0;34m(\u001b[0m\u001b[0;34m\"Total_Rev.txt\"\u001b[0m\u001b[0;34m,\u001b[0m \u001b[0;34m\"r\"\u001b[0m\u001b[0;34m)\u001b[0m\u001b[0;34m\u001b[0m\u001b[0;34m\u001b[0m\u001b[0m\n\u001b[0m\u001b[1;32m      2\u001b[0m \u001b[0;34m\u001b[0m\u001b[0m\n\u001b[1;32m      3\u001b[0m \u001b[0moutput\u001b[0m \u001b[0;34m=\u001b[0m \u001b[0mopen\u001b[0m\u001b[0;34m(\u001b[0m\u001b[0;34m\"Revenue_Output.txt\"\u001b[0m\u001b[0;34m,\u001b[0m \u001b[0;34m\"w\"\u001b[0m\u001b[0;34m)\u001b[0m\u001b[0;34m\u001b[0m\u001b[0;34m\u001b[0m\u001b[0m\n\u001b[1;32m      4\u001b[0m \u001b[0;34m\u001b[0m\u001b[0m\n\u001b[1;32m      5\u001b[0m \u001b[0mDict\u001b[0m \u001b[0;34m=\u001b[0m \u001b[0;34m{\u001b[0m\u001b[0;34m}\u001b[0m\u001b[0;34m\u001b[0m\u001b[0;34m\u001b[0m\u001b[0m\n",
      "\u001b[0;31mFileNotFoundError\u001b[0m: [Errno 2] No such file or directory: 'Total_Rev.txt'"
     ]
    }
   ],
   "source": [
    "file1 = open(\"Total_Rev.txt\", \"r\")\n",
    "\n",
    "output = open(\"Revenue_Output.txt\", \"w\")\n",
    "\n",
    "Dict = {}\n",
    "for row in file1:\n",
    "    \n",
    "    #print(row)\n",
    "    i,m,_,d,date = row.split(\",\")\n",
    "    \n",
    "    if i in Dict.keys():\n",
    "        DATE,_ = date.split(\" \")\n",
    "        _,D = d.split(\":\")\n",
    "        D,_ = D.split(\".\")\n",
    "        Dict[i].add((DATE,D)) \n",
    "    else:\n",
    "        DATE,_ = date.split(\" \")\n",
    "        _,D = d.split(\":\")\n",
    "        D,_ = D.split(\".\")\n",
    "        Dict[i] = set((DATE,D))\n",
    "        \n",
    "\n",
    "for i in Dict.keys():\n",
    "    output.write(i)\n",
    "    output.write(\" \")\n",
    "    output.write(m)\n",
    "    output.write(\" \")\n",
    "    output.write(str(Dict[i]))\n",
    "    output.write(\"\\n\\n\\n\")\n",
    "\n",
    "        \n",
    "        \n",
    "output.close()\n",
    "file1.close()"
   ]
  },
  {
   "cell_type": "code",
   "execution_count": null,
   "id": "7c46a431",
   "metadata": {},
   "outputs": [],
   "source": []
  }
 ],
 "metadata": {
  "kernelspec": {
   "display_name": "Python 3",
   "language": "python",
   "name": "python3"
  },
  "language_info": {
   "codemirror_mode": {
    "name": "ipython",
    "version": 3
   },
   "file_extension": ".py",
   "mimetype": "text/x-python",
   "name": "python",
   "nbconvert_exporter": "python",
   "pygments_lexer": "ipython3",
   "version": "3.7.4"
  }
 },
 "nbformat": 4,
 "nbformat_minor": 5
}
